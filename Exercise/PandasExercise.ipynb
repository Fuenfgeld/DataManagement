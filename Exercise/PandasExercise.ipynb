{
  "nbformat": 4,
  "nbformat_minor": 0,
  "metadata": {
    "colab": {
      "name": "PandasExercise.ipynb",
      "provenance": [],
      "collapsed_sections": [],
      "include_colab_link": true
    },
    "kernelspec": {
      "name": "python3",
      "display_name": "Python 3"
    }
  },
  "cells": [
    {
      "cell_type": "markdown",
      "metadata": {
        "id": "view-in-github",
        "colab_type": "text"
      },
      "source": [
        "<a href=\"https://colab.research.google.com/github/Fuenfgeld/DataManagement/blob/main/Exercise/PandasExercise.ipynb\" target=\"_parent\"><img src=\"https://colab.research.google.com/assets/colab-badge.svg\" alt=\"Open In Colab\"/></a>"
      ]
    },
    {
      "cell_type": "code",
      "metadata": {
        "id": "78MjJcJKu0Uz"
      },
      "source": [
        "# import packages\n",
        "import pandas as pd\n",
        "import numpy as np"
      ],
      "execution_count": null,
      "outputs": []
    },
    {
      "cell_type": "code",
      "metadata": {
        "id": "XJ8ZcXp9zrFr"
      },
      "source": [
        "from numpy.random import randn\n",
        "np.random.seed(101)"
      ],
      "execution_count": null,
      "outputs": []
    },
    {
      "cell_type": "markdown",
      "metadata": {
        "id": "zKPQvK5XNll4"
      },
      "source": [
        "#Exercise1"
      ]
    },
    {
      "cell_type": "markdown",
      "metadata": {
        "id": "5IbvnnR8JU33"
      },
      "source": [
        "Consider the following Python dictionary data and Python list labels:\n"
      ]
    },
    {
      "cell_type": "code",
      "metadata": {
        "id": "xqWAHaOBJF--"
      },
      "source": [
        "data = {'animal': ['cat', 'cat', 'snake', 'dog', 'dog', 'cat', 'snake', 'cat', 'dog', 'dog'],\n",
        "        'age': [2.5, 3, 0.5, np.nan, 5, 2, 4.5, np.nan, 7, 3],\n",
        "        'visits': [1, 3, 2, 3, 2, 3, 1, 1, 2, 1],\n",
        "        'priority': ['yes', 'yes', 'no', 'yes', 'no', 'no', 'no', 'yes', 'no', 'no']}\n",
        "\n",
        "labels = ['a', 'b', 'c', 'd', 'e', 'f', 'g', 'h', 'i', 'j']"
      ],
      "execution_count": null,
      "outputs": []
    },
    {
      "cell_type": "markdown",
      "metadata": {
        "id": "-CibXfX2Ivrx"
      },
      "source": [
        "1. Create a DataFrame df from this dictionary data which has the index labels.\n",
        "2. Display a summary of the basic information about this DataFrame and its data \n",
        "3. Return the first 3 rows of the DataFrame df.\n",
        "4.Select just the 'animal' and 'age' columns from the DataFrame df.\n",
        "5.Select the rows where the age is missing, i.e. it is NaN.\n",
        "6.Select the rows where the animal is a cat and the age is less than 3.\n",
        "7.Select the rows the age is between 2 and 4 (inclusive).\n",
        "8.Calculate the mean age for each different animal in df.\n",
        "9. Count the number of each type of animal in df.\n",
        "10. For each animal type and each number of visits, find the mean age. In other words, each row is an animal, each column is a number of visits and the values are the mean ages (hint: use a pivot table).\n"
      ]
    },
    {
      "cell_type": "markdown",
      "metadata": {
        "id": "tnfq4Qrk3iH_"
      },
      "source": [
        "# Exercise 2"
      ]
    },
    {
      "cell_type": "markdown",
      "metadata": {
        "id": "9OZyU-UizFcp"
      },
      "source": [
        "1. Write a Pandas program to split the following dataframe by school code and get mean, min, and max value of age for each school.\n",
        "2.Write a Pandas program to split the following given dataframe into groups based on school code and class.\n"
      ]
    },
    {
      "cell_type": "code",
      "metadata": {
        "id": "0kiYQ9cezF5P"
      },
      "source": [
        "student_data = pd.DataFrame({\n",
        "    'school_code': ['s001','s002','s003','s001','s002','s004'],\n",
        "    'class': ['V', 'V', 'VI', 'VI', 'V', 'VI'],\n",
        "    'name': ['Alberto Franco','Gino Mcneill','Ryan Parkes', 'Eesha Hinton', 'Gino Mcneill', 'David Parkes'],\n",
        "    'date_Of_Birth ': ['15/05/2002','17/05/2002','16/02/1999','25/09/1998','11/05/2002','15/09/1997'],\n",
        "    'age': [12, 12, 13, 13, 14, 12],\n",
        "    'height': [173, 192, 186, 167, 151, 159],\n",
        "    'weight': [35, 32, 33, 30, 31, 32],\n",
        "    'address': ['street1', 'street2', 'street3', 'street1', 'street2', 'street4']},\n",
        "    index=['S1', 'S2', 'S3', 'S4', 'S5', 'S6'])\n",
        "student_data"
      ],
      "execution_count": null,
      "outputs": []
    },
    {
      "cell_type": "markdown",
      "metadata": {
        "id": "DhrioVOxQXO6"
      },
      "source": [
        "# Exercise 3\n",
        "\n",
        "1.   Write a Pandas program to calculate total salary for each person.\n",
        "2. Write a Pandas program to add a new column to frist datafram and show name of company that of work for each person.\n",
        "\n"
      ]
    },
    {
      "cell_type": "code",
      "metadata": {
        "id": "5gAgKqA7R-UV"
      },
      "source": [
        "df_employees_sal = pd.DataFrame({\n",
        "    'year':[1980,1981,1980,1981,1980,1981,1980,1981],\n",
        "    'id':[1,1,2,2,3,3,4,4],\n",
        "    'name':['alice','alice','bob','bob','charlie','charlie','david','david'],\n",
        "    'salary':[30000,30000,40000,41000,35000,40000,45000,45000],\n",
        "    'company_id':[1,1,2,2,1,1,2,2]})\n",
        "\n",
        "df_companies_rev = pd.DataFrame({\n",
        "    'year':[1980,1981,1980,1981],\n",
        "    'id':[1,1,2,2],\n",
        "    'name':['bell labs','bell labs','xerox','xerox'],\n",
        "    'revenue':[1130000,1130000,5000000,500000]})"
      ],
      "execution_count": null,
      "outputs": []
    },
    {
      "cell_type": "code",
      "metadata": {
        "id": "KGAo-_JWIuJK"
      },
      "source": [
        "print(\"DataFrames1:\")\n",
        "print(df_employees_sal)\n",
        "print(\"--------------------\")\n",
        "print(\"DataFrame2\")\n",
        "print(df_companies_rev)\n"
      ],
      "execution_count": null,
      "outputs": []
    },
    {
      "cell_type": "markdown",
      "metadata": {
        "id": "fN1b_acyO5Fd"
      },
      "source": [
        "# Exercise 4 "
      ]
    },
    {
      "cell_type": "markdown",
      "metadata": {
        "id": "_Dkk91MqO_qr"
      },
      "source": [
        "Consider the following dataset:"
      ]
    },
    {
      "cell_type": "code",
      "metadata": {
        "id": "WFGCydqctlRA"
      },
      "source": [
        "from sklearn import datasets"
      ],
      "execution_count": null,
      "outputs": []
    },
    {
      "cell_type": "code",
      "source": [
        "diabetesDS = datasets.load_diabetes(as_frame=True)"
      ],
      "metadata": {
        "id": "8-l4dnvWe3Op"
      },
      "execution_count": null,
      "outputs": []
    },
    {
      "cell_type": "code",
      "source": [
        "print(diabetesDS.DESCR)"
      ],
      "metadata": {
        "id": "z8dkhKXJe4z_"
      },
      "execution_count": null,
      "outputs": []
    },
    {
      "cell_type": "code",
      "metadata": {
        "id": "A7z-mz9uuMAP"
      },
      "source": [
        "df = pd.DataFrame(diabetesDS.data, columns=diabetesDS.feature_names)\n",
        "df['target'] = diabetesDS.target"
      ],
      "execution_count": null,
      "outputs": []
    },
    {
      "cell_type": "code",
      "source": [
        "df"
      ],
      "metadata": {
        "id": "foiTXG2RfYjM"
      },
      "execution_count": null,
      "outputs": []
    },
    {
      "cell_type": "markdown",
      "metadata": {
        "id": "IoA8AF8rwRUX"
      },
      "source": [
        "Create a regression model. Solution should be includes:\n",
        "\n",
        "\n",
        "* spliting data to train and test set,\n",
        "* training the model\n",
        "* perdiction \n",
        "* saving the model as a pickle file\n",
        "* exporting results as an excel file\n",
        "\n",
        "\n"
      ]
    },
    {
      "cell_type": "code",
      "metadata": {
        "id": "RqnyTBMTzIHw"
      },
      "source": [
        ""
      ],
      "execution_count": null,
      "outputs": []
    }
  ]
}