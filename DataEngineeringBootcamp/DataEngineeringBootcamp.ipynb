{
  "nbformat": 4,
  "nbformat_minor": 0,
  "metadata": {
    "colab": {
      "name": "DataEngineeringBootcamp.ipynb",
      "provenance": [],
      "authorship_tag": "ABX9TyOePe7rKnztvH/Nu1X94ndL",
      "include_colab_link": true
    },
    "kernelspec": {
      "name": "python3",
      "display_name": "Python 3"
    },
    "language_info": {
      "name": "python"
    }
  },
  "cells": [
    {
      "cell_type": "markdown",
      "metadata": {
        "id": "view-in-github",
        "colab_type": "text"
      },
      "source": [
        "<a href=\"https://colab.research.google.com/github/Fuenfgeld/DataManagement/blob/main/DataEngineeringBootcamp/DataEngineeringBootcamp.ipynb\" target=\"_parent\"><img src=\"https://colab.research.google.com/assets/colab-badge.svg\" alt=\"Open In Colab\"/></a>"
      ]
    },
    {
      "cell_type": "code",
      "source": [
        "pip install petl"
      ],
      "metadata": {
        "colab": {
          "base_uri": "https://localhost:8080/"
        },
        "id": "avoK0xnxYtS0",
        "outputId": "755741d0-ec43-4167-9459-859c90cca709"
      },
      "execution_count": 1,
      "outputs": [
        {
          "output_type": "stream",
          "name": "stdout",
          "text": [
            "Collecting petl\n",
            "  Downloading petl-1.7.8.tar.gz (401 kB)\n",
            "\u001b[K     |████████████████████████████████| 401 kB 4.0 MB/s \n",
            "\u001b[?25h  Installing build dependencies ... \u001b[?25l\u001b[?25hdone\n",
            "  Getting requirements to build wheel ... \u001b[?25l\u001b[?25hdone\n",
            "    Preparing wheel metadata ... \u001b[?25l\u001b[?25hdone\n",
            "Building wheels for collected packages: petl\n",
            "  Building wheel for petl (PEP 517) ... \u001b[?25l\u001b[?25hdone\n",
            "  Created wheel for petl: filename=petl-1.7.8-py3-none-any.whl size=219365 sha256=3f4affa52e41f0599649e6e6fd251b04744e4b644d306cebcd73d4e31438189f\n",
            "  Stored in directory: /root/.cache/pip/wheels/fe/3d/5c/e10ec10f8988404563318132cbd9d37f5798198dfbe4d5f12f\n",
            "Successfully built petl\n",
            "Installing collected packages: petl\n",
            "Successfully installed petl-1.7.8\n"
          ]
        }
      ]
    },
    {
      "cell_type": "code",
      "source": [
        "import petl as etl\n",
        "etl.__version__"
      ],
      "metadata": {
        "colab": {
          "base_uri": "https://localhost:8080/",
          "height": 35
        },
        "id": "E4PoIkr_Yx6e",
        "outputId": "9e8cd2a0-9065-47a3-c688-8e1db4d21a56"
      },
      "execution_count": 2,
      "outputs": [
        {
          "output_type": "execute_result",
          "data": {
            "text/plain": [
              "'1.7.8'"
            ],
            "application/vnd.google.colaboratory.intrinsic+json": {
              "type": "string"
            }
          },
          "metadata": {},
          "execution_count": 2
        }
      ]
    },
    {
      "cell_type": "code",
      "source": [
        "import sqlite3\n",
        "con = sqlite3.connect('example.db')"
      ],
      "metadata": {
        "id": "wcTr5ELnYG54"
      },
      "execution_count": 6,
      "outputs": []
    },
    {
      "cell_type": "code",
      "source": [
        "cur = con.cursor()\n",
        "cur.execute('''CREATE TABLE example\n",
        "               (foo real, bar text, baz real)''')\n",
        "con.commit()"
      ],
      "metadata": {
        "id": "nwMLUkeQYz-P"
      },
      "execution_count": 8,
      "outputs": []
    },
    {
      "cell_type": "code",
      "source": [
        "tbl = etl.dummytable(10, seed=42)\n",
        "tbl"
      ],
      "metadata": {
        "colab": {
          "base_uri": "https://localhost:8080/",
          "height": 177
        },
        "id": "M38UPZD_eOyn",
        "outputId": "9319914d-79bc-469e-bf55-2d765ec7ead1"
      },
      "execution_count": 3,
      "outputs": [
        {
          "output_type": "execute_result",
          "data": {
            "text/plain": [
              "+-----+----------+----------------------+\n",
              "| foo | bar      | baz                  |\n",
              "+=====+==========+======================+\n",
              "|  81 | 'apples' | 0.025010755222666936 |\n",
              "+-----+----------+----------------------+\n",
              "|  35 | 'pears'  |  0.22321073814882275 |\n",
              "+-----+----------+----------------------+\n",
              "|  94 | 'apples' |   0.6766994874229113 |\n",
              "+-----+----------+----------------------+\n",
              "|  69 | 'apples' |   0.5904925124490397 |\n",
              "+-----+----------+----------------------+\n",
              "|   4 | 'apples' |  0.09369523986159245 |\n",
              "+-----+----------+----------------------+\n",
              "..."
            ],
            "text/html": [
              "<table class='petl'>\n",
              "<thead>\n",
              "<tr>\n",
              "<th>foo</th>\n",
              "<th>bar</th>\n",
              "<th>baz</th>\n",
              "</tr>\n",
              "</thead>\n",
              "<tbody>\n",
              "<tr>\n",
              "<td style='text-align: right'>81</td>\n",
              "<td>apples</td>\n",
              "<td style='text-align: right'>0.025010755222666936</td>\n",
              "</tr>\n",
              "<tr>\n",
              "<td style='text-align: right'>35</td>\n",
              "<td>pears</td>\n",
              "<td style='text-align: right'>0.22321073814882275</td>\n",
              "</tr>\n",
              "<tr>\n",
              "<td style='text-align: right'>94</td>\n",
              "<td>apples</td>\n",
              "<td style='text-align: right'>0.6766994874229113</td>\n",
              "</tr>\n",
              "<tr>\n",
              "<td style='text-align: right'>69</td>\n",
              "<td>apples</td>\n",
              "<td style='text-align: right'>0.5904925124490397</td>\n",
              "</tr>\n",
              "<tr>\n",
              "<td style='text-align: right'>4</td>\n",
              "<td>apples</td>\n",
              "<td style='text-align: right'>0.09369523986159245</td>\n",
              "</tr>\n",
              "</tbody>\n",
              "</table>\n",
              "<p><strong>...</strong></p>"
            ]
          },
          "metadata": {},
          "execution_count": 3
        }
      ]
    },
    {
      "cell_type": "code",
      "source": [
        "tbl.display(tr_style=lambda row: 'background-color: %s' % ('#faa' if row.foo > 50 else 'white'))"
      ],
      "metadata": {
        "id": "wSaVnN3CefMv",
        "outputId": "a1d42052-0e5c-4c9e-c85d-96b3da33dd75",
        "colab": {
          "base_uri": "https://localhost:8080/",
          "height": 177
        }
      },
      "execution_count": 4,
      "outputs": [
        {
          "output_type": "display_data",
          "data": {
            "text/html": [
              "<table class='petl'>\n",
              "<thead>\n",
              "<tr>\n",
              "<th>foo</th>\n",
              "<th>bar</th>\n",
              "<th>baz</th>\n",
              "</tr>\n",
              "</thead>\n",
              "<tbody>\n",
              "<tr style='background-color: #faa'>\n",
              "<td style='text-align: right'>81</td>\n",
              "<td>apples</td>\n",
              "<td style='text-align: right'>0.025010755222666936</td>\n",
              "</tr>\n",
              "<tr style='background-color: white'>\n",
              "<td style='text-align: right'>35</td>\n",
              "<td>pears</td>\n",
              "<td style='text-align: right'>0.22321073814882275</td>\n",
              "</tr>\n",
              "<tr style='background-color: #faa'>\n",
              "<td style='text-align: right'>94</td>\n",
              "<td>apples</td>\n",
              "<td style='text-align: right'>0.6766994874229113</td>\n",
              "</tr>\n",
              "<tr style='background-color: #faa'>\n",
              "<td style='text-align: right'>69</td>\n",
              "<td>apples</td>\n",
              "<td style='text-align: right'>0.5904925124490397</td>\n",
              "</tr>\n",
              "<tr style='background-color: white'>\n",
              "<td style='text-align: right'>4</td>\n",
              "<td>apples</td>\n",
              "<td style='text-align: right'>0.09369523986159245</td>\n",
              "</tr>\n",
              "</tbody>\n",
              "</table>\n",
              "<p><strong>...</strong></p>"
            ]
          },
          "metadata": {}
        }
      ]
    },
    {
      "cell_type": "code",
      "source": [
        "etl.todb(tbl, con, 'example')"
      ],
      "metadata": {
        "id": "7CvoFZxhYmCI"
      },
      "execution_count": 10,
      "outputs": []
    },
    {
      "cell_type": "code",
      "source": [
        "cur = con.cursor()\n",
        "cur.execute(\"select * FROM example\")\n",
        "print(cur.fetchall())\n",
        "con.close()"
      ],
      "metadata": {
        "colab": {
          "base_uri": "https://localhost:8080/"
        },
        "id": "TZSqOKIXZpAe",
        "outputId": "93f287a2-b5cf-4cc9-ab3c-34c836a5a72d"
      },
      "execution_count": 11,
      "outputs": [
        {
          "output_type": "stream",
          "name": "stdout",
          "text": [
            "[(81.0, 'apples', 0.025010755222666936), (35.0, 'pears', 0.22321073814882275), (94.0, 'apples', 0.6766994874229113), (69.0, 'apples', 0.5904925124490397), (4.0, 'apples', 0.09369523986159245), (29.0, 'apples', 0.561245062938613), (91.0, 'oranges', 0.2204406220406967), (75.0, 'bananas', 0.8094304566778266), (0.0, 'pears', 0.6981393949882269), (43.0, 'bananas', 0.15547949981178155)]\n"
          ]
        }
      ]
    }
  ]
}